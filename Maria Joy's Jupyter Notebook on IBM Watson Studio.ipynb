{
 "cells": [
  {
   "cell_type": "markdown",
   "metadata": {
    "collapsed": true
   },
   "source": [
    "# My Jupyter Notebook on IBM Watson Studio"
   ]
  },
  {
   "cell_type": "markdown",
   "metadata": {},
   "source": [
    "**Maria Joy Oliver-Chavez**\n",
    "\n",
    "Current Occupation: Administrative Assistant"
   ]
  },
  {
   "cell_type": "markdown",
   "metadata": {},
   "source": [
    "*I am interested in data science because I love working with numbers and am motivated to learn the various tools I can use to learn about and interpret the world around me. I also would like to be able to use data to solve problems for an organization I believe in like a labor union or non-profit.*"
   ]
  },
  {
   "cell_type": "markdown",
   "metadata": {},
   "source": [
    "### The code below will add 4 and 4 together and then multiply that result by 2."
   ]
  },
  {
   "cell_type": "code",
   "execution_count": 6,
   "metadata": {},
   "outputs": [
    {
     "data": {
      "text/plain": [
       "16"
      ]
     },
     "execution_count": 6,
     "metadata": {},
     "output_type": "execute_result"
    }
   ],
   "source": [
    "(4+4)*2"
   ]
  },
  {
   "cell_type": "markdown",
   "metadata": {},
   "source": [
    "* John\n",
    "* Jacob\n",
    "* Jingleheimer\n",
    "* Schmidt\n",
    "\n",
    "> His name is my name too.\n",
    "> Whenever we go out, the people always shout:\n",
    "> There goes John Jacob Jingleheimer Schmidt!!!\n",
    "\n",
    "[A cool video I found about Watson Studio](https://www.youtube.com/watch?v=dQw4w9WgXcQ)"
   ]
  }
 ],
 "metadata": {
  "kernelspec": {
   "display_name": "Python 3.9",
   "language": "python",
   "name": "python3"
  },
  "language_info": {
   "codemirror_mode": {
    "name": "ipython",
    "version": 3
   },
   "file_extension": ".py",
   "mimetype": "text/x-python",
   "name": "python",
   "nbconvert_exporter": "python",
   "pygments_lexer": "ipython3",
   "version": "3.9.13"
  }
 },
 "nbformat": 4,
 "nbformat_minor": 1
}
